{
 "cells": [
  {
   "cell_type": "code",
   "execution_count": null,
   "metadata": {},
   "outputs": [],
   "source": [
    "!curl http://103.220.68.101:11434/api/generate -d ''"
   ]
  },
  {
   "cell_type": "code",
   "execution_count": 1,
   "metadata": {},
   "outputs": [],
   "source": [
    "import subprocess"
   ]
  },
  {
   "cell_type": "code",
   "execution_count": 4,
   "metadata": {},
   "outputs": [],
   "source": [
    "d = \"\"\"{\n",
    "  \"model\": \"qwen2\",\n",
    "  \"prompt\": \"Dịch đoạn sau sang tiếng Việt: 'There are many types of skin cancer, each of which can look different on the skin. This picture gallery contains some examples of the more common types of skin cancer, as well as some other non-cancerous types of skin growths. But skin cancers can look different from these examples. This is why it’s important to see a doctor if you have any lumps, bumps, spots, sores, or other marks on your skin that are new or changing, or that worry you for any other reason.'\",\n",
    "  \"stream\": false\n",
    "}\"\"\""
   ]
  },
  {
   "cell_type": "code",
   "execution_count": 5,
   "metadata": {},
   "outputs": [
    {
     "data": {
      "text/plain": [
       "CompletedProcess(args=['curl', 'http://103.220.68.101:11434/api/generate', '-d', '{\\n  \"model\": \"qwen2\",\\n  \"prompt\": \"Dịch đoạn sau sang tiếng Việt: \\'There are many types of skin cancer, each of which can look different on the skin. This picture gallery contains some examples of the more common types of skin cancer, as well as some other non-cancerous types of skin growths. But skin cancers can look different from these examples. This is why it’s important to see a doctor if you have any lumps, bumps, spots, sores, or other marks on your skin that are new or changing, or that worry you for any other reason.\\'\",\\n  \"stream\": false\\n}'], returncode=0)"
      ]
     },
     "execution_count": 5,
     "metadata": {},
     "output_type": "execute_result"
    }
   ],
   "source": [
    "subprocess.run([\"curl\", \"http://103.220.68.101:11434/api/generate\", \"-d\", d])"
   ]
  }
 ],
 "metadata": {
  "kernelspec": {
   "display_name": "Python 3",
   "language": "python",
   "name": "python3"
  },
  "language_info": {
   "codemirror_mode": {
    "name": "ipython",
    "version": 3
   },
   "file_extension": ".py",
   "mimetype": "text/x-python",
   "name": "python",
   "nbconvert_exporter": "python",
   "pygments_lexer": "ipython3",
   "version": "3.11.1"
  }
 },
 "nbformat": 4,
 "nbformat_minor": 2
}
