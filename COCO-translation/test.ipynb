{
 "cells": [
  {
   "cell_type": "code",
   "execution_count": null,
   "metadata": {},
   "outputs": [],
   "source": [
    "!curl http://103.220.68.101:11434/api/generate -d ''"
   ]
  },
  {
   "cell_type": "code",
   "execution_count": null,
   "metadata": {},
   "outputs": [],
   "source": [
    "import subprocess"
   ]
  },
  {
   "cell_type": "code",
   "execution_count": 3,
   "metadata": {},
   "outputs": [
    {
     "name": "stdout",
     "output_type": "stream",
     "text": [
      "{\n",
      "  \"model\": \"qwen2\",\n",
      "  \"prompt\": \"Dịch đoạn sau sang tiếng Việt: 'A long time ago'\",\n",
      "  \"stream\": false\n",
      "}\n"
     ]
    }
   ],
   "source": [
    "caption = \"A long time ago\"\n",
    "\n",
    "d = f\"\"\"{{\n",
    "  \"model\": \"qwen2\",\n",
    "  \"prompt\": \"Dịch đoạn sau sang tiếng Việt: '{caption}'\",\n",
    "  \"stream\": false\n",
    "}}\"\"\"\n",
    "\n",
    "print(d)"
   ]
  },
  {
   "cell_type": "code",
   "execution_count": null,
   "metadata": {},
   "outputs": [],
   "source": [
    "result = subprocess.run(\n",
    "    [\"curl\", \"http://103.220.68.101:11434/api/generate\", \"-d\", d],\n",
    "    capture_output = True, # Python >= 3.7 only\n",
    "    text = True # Python >= 3.7 only\n",
    "    )"
   ]
  },
  {
   "cell_type": "code",
   "execution_count": null,
   "metadata": {},
   "outputs": [],
   "source": [
    "result.stderr"
   ]
  },
  {
   "cell_type": "code",
   "execution_count": null,
   "metadata": {},
   "outputs": [],
   "source": [
    "result.stdout"
   ]
  },
  {
   "cell_type": "code",
   "execution_count": null,
   "metadata": {},
   "outputs": [],
   "source": [
    "result.stdout.split('\",\"')[2]"
   ]
  },
  {
   "cell_type": "code",
   "execution_count": 4,
   "metadata": {},
   "outputs": [],
   "source": [
    "raw_ = 'response\":\"\\\"hai chiếc xe đậu trên vỉa hè ở trên con đường\\\"'"
   ]
  },
  {
   "cell_type": "code",
   "execution_count": 5,
   "metadata": {},
   "outputs": [
    {
     "data": {
      "text/plain": [
       "['response', ':', '', 'hai chiếc xe đậu trên vỉa hè ở trên con đường', '']"
      ]
     },
     "execution_count": 5,
     "metadata": {},
     "output_type": "execute_result"
    }
   ],
   "source": [
    "raw_.split('\"')"
   ]
  },
  {
   "cell_type": "code",
   "execution_count": 6,
   "metadata": {},
   "outputs": [
    {
     "data": {
      "text/plain": [
       "['response', ':', 'Một bản sao của xe đạp với đồng hồ như bánh trước.']"
      ]
     },
     "execution_count": 6,
     "metadata": {},
     "output_type": "execute_result"
    }
   ],
   "source": [
    "raw_2 = 'response\":\"Một bản sao của xe đạp với đồng hồ như bánh trước.'\n",
    "raw_2.split('\"')"
   ]
  },
  {
   "cell_type": "code",
   "execution_count": 7,
   "metadata": {},
   "outputs": [
    {
     "name": "stdout",
     "output_type": "stream",
     "text": [
      "id\n",
      "img_id\n",
      "caption\n"
     ]
    }
   ],
   "source": [
    "tmp_dc = {\"id\": 1234, \"img_id\":4567, \"caption\":\"aloha\"}\n",
    "for key in tmp_dc:\n",
    "    print(key)"
   ]
  }
 ],
 "metadata": {
  "kernelspec": {
   "display_name": "Python 3",
   "language": "python",
   "name": "python3"
  },
  "language_info": {
   "codemirror_mode": {
    "name": "ipython",
    "version": 3
   },
   "file_extension": ".py",
   "mimetype": "text/x-python",
   "name": "python",
   "nbconvert_exporter": "python",
   "pygments_lexer": "ipython3",
   "version": "3.11.1"
  }
 },
 "nbformat": 4,
 "nbformat_minor": 2
}
