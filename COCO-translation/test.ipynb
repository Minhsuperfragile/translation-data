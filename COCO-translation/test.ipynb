{
 "cells": [
  {
   "cell_type": "code",
   "execution_count": null,
   "metadata": {},
   "outputs": [],
   "source": [
    "!curl http://103.220.68.101:11434/api/generate -d ''"
   ]
  },
  {
   "cell_type": "code",
   "execution_count": null,
   "metadata": {},
   "outputs": [],
   "source": [
    "import subprocess"
   ]
  },
  {
   "cell_type": "code",
   "execution_count": null,
   "metadata": {},
   "outputs": [],
   "source": [
    "d = \"\"\"{\n",
    "  \"model\": \"qwen2\",\n",
    "  \"prompt\": \"Dịch đoạn sau sang tiếng Việt: 'There are many types of skin cancer, each of which can look different on the skin. This picture gallery contains some examples of the more common types of skin cancer, as well as some other non-cancerous types of skin growths. But skin cancers can look different from these examples. This is why it’s important to see a doctor if you have any lumps, bumps, spots, sores, or other marks on your skin that are new or changing, or that worry you for any other reason.'\",\n",
    "  \"stream\": false\n",
    "}\"\"\""
   ]
  },
  {
   "cell_type": "code",
   "execution_count": null,
   "metadata": {},
   "outputs": [],
   "source": [
    "result = subprocess.run(\n",
    "    [\"curl\", \"http://103.220.68.101:11434/api/generate\", \"-d\", d],\n",
    "    capture_output = True, # Python >= 3.7 only\n",
    "    text = True # Python >= 3.7 only\n",
    "    )"
   ]
  },
  {
   "cell_type": "code",
   "execution_count": null,
   "metadata": {},
   "outputs": [],
   "source": [
    "result.stderr"
   ]
  },
  {
   "cell_type": "code",
   "execution_count": null,
   "metadata": {},
   "outputs": [],
   "source": [
    "result.stdout"
   ]
  },
  {
   "cell_type": "code",
   "execution_count": null,
   "metadata": {},
   "outputs": [],
   "source": [
    "result.stdout.split('\",\"')[2]"
   ]
  }
 ],
 "metadata": {
  "kernelspec": {
   "display_name": "Python 3",
   "language": "python",
   "name": "python3"
  },
  "language_info": {
   "codemirror_mode": {
    "name": "ipython",
    "version": 3
   },
   "file_extension": ".py",
   "mimetype": "text/x-python",
   "name": "python",
   "nbconvert_exporter": "python",
   "pygments_lexer": "ipython3",
   "version": "3.12.4"
  }
 },
 "nbformat": 4,
 "nbformat_minor": 2
}
