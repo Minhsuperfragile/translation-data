{
 "cells": [
  {
   "cell_type": "code",
   "execution_count": 11,
   "metadata": {},
   "outputs": [],
   "source": [
    "import pandas as pd\n",
    "import gc"
   ]
  },
  {
   "cell_type": "code",
   "execution_count": 34,
   "metadata": {},
   "outputs": [
    {
     "data": {
      "text/plain": [
       "32"
      ]
     },
     "execution_count": 34,
     "metadata": {},
     "output_type": "execute_result"
    }
   ],
   "source": [
    "rs0 = pd.read_csv(\"result.csv\", header=None, sep='ッ', on_bad_lines=\"skip\", engine='python')\n",
    "rs1 = pd.read_csv(\"result1.csv\", header=None, sep='ッ', on_bad_lines=\"skip\", engine='python')\n",
    "rs2 = pd.read_csv(\"result2.csv\", header=None, sep='ッ', on_bad_lines=\"skip\", engine='python')\n",
    "rs3 = pd.read_csv(\"result3.csv\", header=None, sep='ッ', on_bad_lines=\"skip\", engine='python')\n",
    "\n",
    "full_df = pd.concat([rs0, rs1, rs2, rs3])\n",
    "full_df.rename(columns={0:\"id\", 1:\"vi\"}, inplace=True)\n",
    "\n",
    "del rs0, rs1, rs2, rs3\n",
    "gc.collect()"
   ]
  },
  {
   "cell_type": "code",
   "execution_count": 37,
   "metadata": {},
   "outputs": [
    {
     "data": {
      "text/plain": [
       "(390921, 2)"
      ]
     },
     "execution_count": 37,
     "metadata": {},
     "output_type": "execute_result"
    }
   ],
   "source": [
    "full_df.shape"
   ]
  },
  {
   "cell_type": "code",
   "execution_count": 35,
   "metadata": {},
   "outputs": [
    {
     "data": {
      "text/html": [
       "<div>\n",
       "<style scoped>\n",
       "    .dataframe tbody tr th:only-of-type {\n",
       "        vertical-align: middle;\n",
       "    }\n",
       "\n",
       "    .dataframe tbody tr th {\n",
       "        vertical-align: top;\n",
       "    }\n",
       "\n",
       "    .dataframe thead th {\n",
       "        text-align: right;\n",
       "    }\n",
       "</style>\n",
       "<table border=\"1\" class=\"dataframe\">\n",
       "  <thead>\n",
       "    <tr style=\"text-align: right;\">\n",
       "      <th></th>\n",
       "      <th>id</th>\n",
       "      <th>vi</th>\n",
       "    </tr>\n",
       "  </thead>\n",
       "  <tbody>\n",
       "    <tr>\n",
       "      <th>0</th>\n",
       "      <td>Jika Anda baru memulai atau ingin membuat chan...</td>\n",
       "      <td>Dù bạn mới bắt đầu tạo kênh hay muốn đưa kênh ...</td>\n",
       "    </tr>\n",
       "    <tr>\n",
       "      <th>1</th>\n",
       "      <td>Anda dapat mempelajari penjelasan lebih mendal...</td>\n",
       "      <td>Bạn có thể xem bài học này trong Học viện sáng...</td>\n",
       "    </tr>\n",
       "    <tr>\n",
       "      <th>2</th>\n",
       "      <td>Militer Turki juga menyisir Akademi Angkatan U...</td>\n",
       "      <td>Quân đội Thổ Nhĩ Kỳ cũng đã tiến hành một cuộc...</td>\n",
       "    </tr>\n",
       "    <tr>\n",
       "      <th>3</th>\n",
       "      <td>Sersan Neff adalah prajurit yang sangat berpen...</td>\n",
       "      <td>Trung sĩ Neff là một chiến binh rất kinh nghiệ...</td>\n",
       "    </tr>\n",
       "    <tr>\n",
       "      <th>4</th>\n",
       "      <td>Asal usul akademi ini dapat ditilik kembali ke...</td>\n",
       "      <td>Nguồn gốc của viện được đặt trên nền tảng Esco...</td>\n",
       "    </tr>\n",
       "  </tbody>\n",
       "</table>\n",
       "</div>"
      ],
      "text/plain": [
       "                                                  id  \\\n",
       "0  Jika Anda baru memulai atau ingin membuat chan...   \n",
       "1  Anda dapat mempelajari penjelasan lebih mendal...   \n",
       "2  Militer Turki juga menyisir Akademi Angkatan U...   \n",
       "3  Sersan Neff adalah prajurit yang sangat berpen...   \n",
       "4  Asal usul akademi ini dapat ditilik kembali ke...   \n",
       "\n",
       "                                                  vi  \n",
       "0  Dù bạn mới bắt đầu tạo kênh hay muốn đưa kênh ...  \n",
       "1  Bạn có thể xem bài học này trong Học viện sáng...  \n",
       "2  Quân đội Thổ Nhĩ Kỳ cũng đã tiến hành một cuộc...  \n",
       "3  Trung sĩ Neff là một chiến binh rất kinh nghiệ...  \n",
       "4  Nguồn gốc của viện được đặt trên nền tảng Esco...  "
      ]
     },
     "execution_count": 35,
     "metadata": {},
     "output_type": "execute_result"
    }
   ],
   "source": [
    "full_df.head()"
   ]
  },
  {
   "cell_type": "code",
   "execution_count": 36,
   "metadata": {},
   "outputs": [],
   "source": [
    "full_df.drop_duplicates(subset=[\"id\"], inplace=True)"
   ]
  },
  {
   "cell_type": "code",
   "execution_count": 30,
   "metadata": {},
   "outputs": [
    {
     "name": "stdout",
     "output_type": "stream",
     "text": [
      "data has size 484 mb\n"
     ]
    }
   ],
   "source": [
    "import sys\n",
    "\n",
    "print(f\"data has size {sys.getsizeof(full_df) // (1024**2)} mb\")"
   ]
  }
 ],
 "metadata": {
  "kernelspec": {
   "display_name": "Python 3",
   "language": "python",
   "name": "python3"
  },
  "language_info": {
   "codemirror_mode": {
    "name": "ipython",
    "version": 3
   },
   "file_extension": ".py",
   "mimetype": "text/x-python",
   "name": "python",
   "nbconvert_exporter": "python",
   "pygments_lexer": "ipython3",
   "version": "3.12.6"
  }
 },
 "nbformat": 4,
 "nbformat_minor": 2
}
