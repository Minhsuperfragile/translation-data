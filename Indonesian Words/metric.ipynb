{
 "cells": [
  {
   "cell_type": "code",
   "execution_count": null,
   "metadata": {},
   "outputs": [],
   "source": [
    "import pandas as pd\n",
    "import gc"
   ]
  },
  {
   "cell_type": "code",
   "execution_count": null,
   "metadata": {},
   "outputs": [],
   "source": [
    "rs0 = pd.read_csv(\"result.csv\", header=None, sep='ッ', on_bad_lines=\"skip\", engine='python')\n",
    "rs1 = pd.read_csv(\"result1.csv\", header=None, sep='ッ', on_bad_lines=\"skip\", engine='python')\n",
    "rs2 = pd.read_csv(\"result2.csv\", header=None, sep='ッ', on_bad_lines=\"skip\", engine='python')\n",
    "rs3 = pd.read_csv(\"result3.csv\", header=None, sep='ッ', on_bad_lines=\"skip\", engine='python')\n",
    "\n",
    "full_df = pd.concat([rs0, rs1, rs2, rs3])\n",
    "full_df.rename(columns={0:\"id\", 1:\"vi\"}, inplace=True)\n",
    "\n",
    "del rs0, rs1, rs2, rs3\n",
    "gc.collect()"
   ]
  },
  {
   "cell_type": "code",
   "execution_count": null,
   "metadata": {},
   "outputs": [],
   "source": [
    "full_df.shape"
   ]
  },
  {
   "cell_type": "code",
   "execution_count": null,
   "metadata": {},
   "outputs": [],
   "source": [
    "full_df.head()"
   ]
  },
  {
   "cell_type": "code",
   "execution_count": null,
   "metadata": {},
   "outputs": [],
   "source": [
    "full_df.drop_duplicates(subset=[\"id\"], inplace=True)"
   ]
  },
  {
   "cell_type": "code",
   "execution_count": null,
   "metadata": {},
   "outputs": [],
   "source": [
    "import sys\n",
    "\n",
    "print(f\"data has size {sys.getsizeof(full_df) // (1024**2)} mb\")"
   ]
  }
 ],
 "metadata": {
  "kernelspec": {
   "display_name": "Python 3",
   "language": "python",
   "name": "python3"
  },
  "language_info": {
   "codemirror_mode": {
    "name": "ipython",
    "version": 3
   },
   "file_extension": ".py",
   "mimetype": "text/x-python",
   "name": "python",
   "nbconvert_exporter": "python",
   "pygments_lexer": "ipython3",
   "version": "3.12.6"
  }
 },
 "nbformat": 4,
 "nbformat_minor": 2
}
