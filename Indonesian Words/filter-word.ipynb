{
 "cells": [
  {
   "cell_type": "code",
   "execution_count": 1,
   "metadata": {},
   "outputs": [],
   "source": [
    "import os "
   ]
  },
  {
   "cell_type": "code",
   "execution_count": null,
   "metadata": {},
   "outputs": [],
   "source": [
    "word_files_path = \"a2z files\"\n",
    "\n",
    "word_files = os.listdir(word_files_path)"
   ]
  },
  {
   "cell_type": "code",
   "execution_count": 10,
   "metadata": {},
   "outputs": [],
   "source": [
    "for word_file in word_files:\n",
    "    with open(os.path.join(word_files_path,word_file),'r') as f:\n",
    "        words_set = set()\n",
    "        while True: \n",
    "            line = f.readline()[:-1]\n",
    "            if not line:\n",
    "                break\n",
    "            words = line.split(\" \")\n",
    "            for word in words:\n",
    "                if len(word) > 1:\n",
    "                    words_set.add(word)\n",
    "            \n",
    "        with open(\"all-words.txt\", 'a') as t:\n",
    "            for word in words_set:\n",
    "                t.write(f'{word} ')\n",
    "            t.write(\"\\n\")"
   ]
  },
  {
   "cell_type": "code",
   "execution_count": 12,
   "metadata": {},
   "outputs": [],
   "source": [
    "alphabet = 'A,B,C,D,E,F,G,H,I,J,K,L,M,N,O,P,Q,R,S,T,U,V,W,X,Y,Z'\n",
    "alphabet = alphabet.lower().split(',')"
   ]
  },
  {
   "cell_type": "code",
   "execution_count": 13,
   "metadata": {},
   "outputs": [],
   "source": [
    "word_dict = dict(zip(alphabet, range(len(alphabet))))\n",
    "\n",
    "for key in alphabet:\n",
    "    word_dict[key] = set()"
   ]
  },
  {
   "cell_type": "code",
   "execution_count": 14,
   "metadata": {},
   "outputs": [
    {
     "name": "stdout",
     "output_type": "stream",
     "text": [
      "–lah 12\n",
      ":mengatur 13\n"
     ]
    }
   ],
   "source": [
    "line_count = 1\n",
    "with open(\"all-words.txt\", 'r', encoding='utf-8') as file:\n",
    "    while True:\n",
    "        line = file.readline()[:-1]\n",
    "        if not line:\n",
    "            break\n",
    "        words = line.split(\" \")\n",
    "        for word in words:\n",
    "            if not word:\n",
    "                break\n",
    "            first_letter = word[0].lower()\n",
    "            try:\n",
    "                word_dict[first_letter].add(word)\n",
    "            except KeyError:\n",
    "                print(f\"{word} {line_count}\")\n",
    "                first_letter = word[1].lower()\n",
    "                word_dict[first_letter].add(word)\n",
    "        line_count += 1"
   ]
  },
  {
   "cell_type": "code",
   "execution_count": 16,
   "metadata": {},
   "outputs": [
    {
     "name": "stdout",
     "output_type": "stream",
     "text": [
      "a: 830\n",
      "b: 2267\n",
      "c: 392\n",
      "d: 1133\n",
      "e: 269\n",
      "f: 200\n",
      "g: 518\n",
      "h: 308\n",
      "i: 339\n",
      "j: 374\n",
      "k: 2663\n",
      "l: 589\n",
      "m: 4197\n",
      "n: 249\n",
      "o: 204\n",
      "p: 3326\n",
      "q: 7\n",
      "r: 508\n",
      "s: 1524\n",
      "t: 1331\n",
      "u: 180\n",
      "v: 89\n",
      "w: 116\n",
      "x: 2\n",
      "y: 40\n",
      "z: 26\n",
      "21681\n"
     ]
    }
   ],
   "source": [
    "total = 0\n",
    "for key in alphabet:\n",
    "    words_count = len(word_dict[key])\n",
    "    print(f'{key}: {words_count}')\n",
    "    total += words_count\n",
    "print(total)"
   ]
  },
  {
   "cell_type": "code",
   "execution_count": 17,
   "metadata": {},
   "outputs": [],
   "source": [
    "import json\n",
    "for key in alphabet:\n",
    "    word_dict[key] = list(word_dict[key])\n",
    "\n",
    "with open('result.json', 'w') as fp:\n",
    "    json.dump(word_dict, fp)"
   ]
  }
 ],
 "metadata": {
  "kernelspec": {
   "display_name": "Python 3",
   "language": "python",
   "name": "python3"
  },
  "language_info": {
   "codemirror_mode": {
    "name": "ipython",
    "version": 3
   },
   "file_extension": ".py",
   "mimetype": "text/x-python",
   "name": "python",
   "nbconvert_exporter": "python",
   "pygments_lexer": "ipython3",
   "version": "3.11.1"
  }
 },
 "nbformat": 4,
 "nbformat_minor": 2
}
