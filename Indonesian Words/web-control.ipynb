{
 "cells": [
  {
   "cell_type": "markdown",
   "metadata": {},
   "source": [
    "# IMPORT"
   ]
  },
  {
   "cell_type": "code",
   "execution_count": 1,
   "metadata": {},
   "outputs": [],
   "source": [
    "from selenium import webdriver\n",
    "from selenium.webdriver.common.keys import Keys\n",
    "from selenium.webdriver.common.by import By\n",
    "from selenium.common.exceptions import NoSuchElementException, TimeoutException, WebDriverException\n",
    "from selenium.webdriver.support import expected_conditions as EC\n",
    "from selenium.webdriver.support.ui import WebDriverWait\n",
    "from selenium.webdriver.common.proxy import Proxy, ProxyType\n",
    "import json\n",
    "import random\n",
    "import ctypes  # An included library with Python install.   "
   ]
  },
  {
   "cell_type": "code",
   "execution_count": 2,
   "metadata": {},
   "outputs": [],
   "source": [
    "word_dict = json.load(open(\"result.json\"))\n",
    "\n",
    "alphabet = 'A,B,C,D,E,F,G,H,I,J,K,L,M,N,O,P,Q,R,S,T,U,V,W,X,Y,Z'\n",
    "alphabet = alphabet.lower().split(',')"
   ]
  },
  {
   "cell_type": "code",
   "execution_count": 3,
   "metadata": {},
   "outputs": [],
   "source": [
    "user_agents = [\n",
    "    # Add your list of user agents here\n",
    "\t'Mozilla/5.0 (Windows NT 10.0; Win64; x64) AppleWebKit/537.36 (KHTML, like Gecko) Chrome/109.0.0.0 Safari/537.36',\n",
    "    'Mozilla/5.0 (Macintosh; Intel Mac OS X 10_15_7) AppleWebKit/537.36 (KHTML, like Gecko) Chrome/109.0.0.0 Safari/537.36',\n",
    "    'Mozilla/5.0 (Windows NT 10.0; Win64; x64) AppleWebKit/537.36 (KHTML, like Gecko) Chrome/108.0.0.0 Safari/537.36',\n",
    "    'Mozilla/5.0 (Macintosh; Intel Mac OS X 10_15_7) AppleWebKit/537.36 (KHTML, like Gecko) Chrome/108.0.0.0 Safari/537.36',\n",
    "    'Mozilla/5.0 (X11; Linux x86_64) AppleWebKit/537.36 (KHTML, like Gecko) Chrome/108.0.0.0 Safari/537.36',\n",
    "    'Mozilla/5.0 (Macintosh; Intel Mac OS X 10_15_7) AppleWebKit/605.1.15 (KHTML, like Gecko) Version/16.1 Safari/605.1.15',\n",
    "    'Mozilla/5.0 (Macintosh; Intel Mac OS X 13_1) AppleWebKit/605.1.15 (KHTML, like Gecko) Version/16.1 Safari/605.1.15',\n",
    "]\n"
   ]
  },
  {
   "cell_type": "markdown",
   "metadata": {},
   "source": [
    "# CHROME"
   ]
  },
  {
   "cell_type": "code",
   "execution_count": 5,
   "metadata": {},
   "outputs": [],
   "source": [
    "PROXY = \"132.243.206.253:3128\"\n",
    "LINK = \"https://www.expressvpn.com/what-is-my-ip\"\n",
    "\n",
    "CHROME_PATH = \"C:\\Program Files\\Google\\Chrome\\Application\\chrome.exe\"\n",
    "chrome_option = webdriver.ChromeOptions()\n",
    "# chrome_option.add_argument(f\"--proxy-server={PROXY}\")\n",
    "chrome_option.add_argument(\"user_agent=\"+random.choice(user_agents))\n",
    "\n",
    "webdriver.DesiredCapabilities.CHROME['proxy'] = {\n",
    "    \"httpProxy\": PROXY,\n",
    "    \"ftpProxy\": PROXY,\n",
    "    \"sslProxy\": PROXY,\n",
    "    \"noProxy\":None,\n",
    "    \"proxyType\": \"MANUAL\",\n",
    "    \"socksProxy\": PROXY,\n",
    "    \"socksVersion\":4,\n",
    "    \"class\":\"org.openqa.selenium.Proxy\",\n",
    "    \"autodetect\":False\n",
    "}\n",
    "\n",
    "# webdriver.DesiredCapabilities.CHROME['acceptSslCerts']=True\n",
    "\n",
    "chrome_driver = webdriver.Chrome(options=chrome_option)\n",
    "\n",
    "try:\n",
    "    chrome_driver.get(LINK)\n",
    "except WebDriverException as e:\n",
    "    print(f'Error : {e.msg}')"
   ]
  },
  {
   "cell_type": "code",
   "execution_count": 18,
   "metadata": {},
   "outputs": [],
   "source": [
    "chrome_driver.close()"
   ]
  },
  {
   "cell_type": "markdown",
   "metadata": {},
   "source": [
    "# EDGE"
   ]
  },
  {
   "cell_type": "code",
   "execution_count": 32,
   "metadata": {},
   "outputs": [],
   "source": [
    "PROXY = \"160.86.242.23:8080\"\n",
    "PROXY_PASS = \"vvcknvzt:hnqek9w3h7i5\"\n",
    "LINK = \"https://vi.glosbe.com/id/vi\"\n",
    "edge_option = webdriver.EdgeOptions()\n",
    "edge_option.add_argument(f\"--proxy-server={PROXY}\")\n",
    "# edge_option.add_argument(\"--headless\")\n",
    "edge_option.add_argument('--disable-blink-features=AutomationControlled')\n",
    "edge_option.add_argument('--disable-popup-blocking')\n",
    "edge_option.add_argument('--disable-extensions')\n",
    "edge_option.add_argument('--no-sandbox')\n",
    "edge_option.add_argument('--disable-dev-shm-usage')\n",
    "\n",
    "user_agent = random.choice(user_agents)\n",
    "edge_option.add_argument(f'user-agent={user_agent}')\n",
    "\n",
    "# driver = webdriver.Edge(seleniumwire_options=options, options=edge_option)\n",
    "driver = webdriver.Edge(options = edge_option)\n",
    "driver.execute_script(\"Object.defineProperty(navigator, 'webdriver', {get: () => undefined})\")\n",
    "try:\n",
    "    driver.get(LINK)\n",
    "except WebDriverException as e:\n",
    "    print(f'Error : {e.msg}')"
   ]
  },
  {
   "cell_type": "code",
   "execution_count": 31,
   "metadata": {},
   "outputs": [],
   "source": [
    "driver.close()"
   ]
  },
  {
   "cell_type": "markdown",
   "metadata": {},
   "source": [
    "# SCRAPE"
   ]
  },
  {
   "cell_type": "code",
   "execution_count": 5,
   "metadata": {},
   "outputs": [],
   "source": [
    "def log_when_stop(file, word):\n",
    "    with open(file, 'w') as f:\n",
    "        word_index = word_dict[word[0].lower()].index(word)\n",
    "        letter_index = alphabet.index(word[0].lower())\n",
    "        f.write(f'{letter_index} {word_index-1}')\n",
    "\n",
    "def search_word(driver:webdriver, word, delay = 3, test=False):\n",
    "    MAXTRY = 1\n",
    "    count = 0\n",
    "    while True:\n",
    "        try:\n",
    "            try:\n",
    "                myElem = WebDriverWait(driver, delay).until(EC.presence_of_element_located((By.NAME,\"q\")))\n",
    "            except TimeoutException:\n",
    "                print( \"Searching took too much time!\")\n",
    "            # driver.get(\"https://vi.glosbe.com/id/vi/\" + word)\n",
    "            search_bar = driver.find_element(By.NAME,\"q\")\n",
    "            search_bar.clear()\n",
    "            search_bar.send_keys(word)\n",
    "            search_bar.send_keys(Keys.RETURN)\n",
    "            break\n",
    "        except NoSuchElementException:\n",
    "            driver.refresh()\n",
    "            count += 1\n",
    "            if count >= MAXTRY:\n",
    "                print(\"Encounter a capcha\")\n",
    "                if not test:\n",
    "                    log_when_stop(\"stop_log.txt\", word)\n",
    "                ctypes.windll.user32.MessageBoxW(0, \"Your text\", \"Your title\", 2)\n",
    "                raise Exception\n",
    "    \n",
    "def get_translation(driver, div1, div2):\n",
    "    lang1 = driver.find_elements(By.CSS_SELECTOR, div1)\n",
    "    lang2 = driver.find_elements(By.CSS_SELECTOR, div2)\n",
    "\n",
    "    return lang1,lang2\n",
    "\n",
    "def write_to_csv(lang1, lang2, file):\n",
    "    if len(lang1) < 1 or len(lang2) < 1:\n",
    "        return\n",
    "    with open(file, 'a', encoding='utf-8') as f:    \n",
    "        for i, _ in enumerate(lang1):\n",
    "            f.write(f'{lang1[i].text}ッ{lang2[i].text}\\n')\n",
    "            \n",
    "def load_all(driver,button_css,try_again ,delay=3):\n",
    "    while True:\n",
    "        try:\n",
    "            try:\n",
    "                WebDriverWait(driver, delay).until(EC.presence_of_element_located((By.CSS_SELECTOR, button_css)))\n",
    "            except TimeoutException:\n",
    "                try:\n",
    "                    print(\"try again\")\n",
    "                    load_more = driver.find_element(By.CSS_SELECTOR, try_again)\n",
    "                    webdriver.ActionChains(driver).move_to_element(load_more).click(load_more).perform()\n",
    "                except NoSuchElementException:\n",
    "                    break\n",
    "            load_more = driver.find_element(By.CSS_SELECTOR, button_css)\n",
    "        \n",
    "            webdriver.ActionChains(driver).move_to_element(load_more).click(load_more).perform()\n",
    "                \n",
    "            # time.sleep(2)\n",
    "        except NoSuchElementException:\n",
    "            print(\"no more\")\n",
    "            break\n",
    "\n",
    "def continue_from_last(file):\n",
    "    text:str\n",
    "    with open(file,'r') as f:\n",
    "        text = f.readline()\n",
    "  \n",
    "    return tuple(map(int,text.split()))\n",
    "\n"
   ]
  },
  {
   "cell_type": "code",
   "execution_count": 34,
   "metadata": {},
   "outputs": [
    {
     "name": "stdout",
     "output_type": "stream",
     "text": [
      "10 2049\n",
      "try again\n",
      "no more\n",
      "try again\n",
      "try again\n",
      "no more\n",
      "try again\n",
      "Searching took too much time!\n",
      "Encounter a capcha\n"
     ]
    },
    {
     "ename": "Exception",
     "evalue": "",
     "output_type": "error",
     "traceback": [
      "\u001b[1;31m---------------------------------------------------------------------------\u001b[0m",
      "\u001b[1;31mNoSuchElementException\u001b[0m                    Traceback (most recent call last)",
      "Cell \u001b[1;32mIn[5], line 17\u001b[0m, in \u001b[0;36msearch_word\u001b[1;34m(driver, word, delay, test)\u001b[0m\n\u001b[0;32m     16\u001b[0m \u001b[38;5;66;03m# driver.get(\"https://vi.glosbe.com/id/vi/\" + word)\u001b[39;00m\n\u001b[1;32m---> 17\u001b[0m search_bar \u001b[38;5;241m=\u001b[39m \u001b[43mdriver\u001b[49m\u001b[38;5;241;43m.\u001b[39;49m\u001b[43mfind_element\u001b[49m\u001b[43m(\u001b[49m\u001b[43mBy\u001b[49m\u001b[38;5;241;43m.\u001b[39;49m\u001b[43mNAME\u001b[49m\u001b[43m,\u001b[49m\u001b[38;5;124;43m\"\u001b[39;49m\u001b[38;5;124;43mq\u001b[39;49m\u001b[38;5;124;43m\"\u001b[39;49m\u001b[43m)\u001b[49m\n\u001b[0;32m     18\u001b[0m search_bar\u001b[38;5;241m.\u001b[39mclear()\n",
      "File \u001b[1;32md:\\Programs\\Python\\Lib\\site-packages\\selenium\\webdriver\\remote\\webdriver.py:748\u001b[0m, in \u001b[0;36mWebDriver.find_element\u001b[1;34m(self, by, value)\u001b[0m\n\u001b[0;32m    746\u001b[0m     value \u001b[38;5;241m=\u001b[39m \u001b[38;5;124mf\u001b[39m\u001b[38;5;124m'\u001b[39m\u001b[38;5;124m[name=\u001b[39m\u001b[38;5;124m\"\u001b[39m\u001b[38;5;132;01m{\u001b[39;00mvalue\u001b[38;5;132;01m}\u001b[39;00m\u001b[38;5;124m\"\u001b[39m\u001b[38;5;124m]\u001b[39m\u001b[38;5;124m'\u001b[39m\n\u001b[1;32m--> 748\u001b[0m \u001b[38;5;28;01mreturn\u001b[39;00m \u001b[38;5;28;43mself\u001b[39;49m\u001b[38;5;241;43m.\u001b[39;49m\u001b[43mexecute\u001b[49m\u001b[43m(\u001b[49m\u001b[43mCommand\u001b[49m\u001b[38;5;241;43m.\u001b[39;49m\u001b[43mFIND_ELEMENT\u001b[49m\u001b[43m,\u001b[49m\u001b[43m \u001b[49m\u001b[43m{\u001b[49m\u001b[38;5;124;43m\"\u001b[39;49m\u001b[38;5;124;43musing\u001b[39;49m\u001b[38;5;124;43m\"\u001b[39;49m\u001b[43m:\u001b[49m\u001b[43m \u001b[49m\u001b[43mby\u001b[49m\u001b[43m,\u001b[49m\u001b[43m \u001b[49m\u001b[38;5;124;43m\"\u001b[39;49m\u001b[38;5;124;43mvalue\u001b[39;49m\u001b[38;5;124;43m\"\u001b[39;49m\u001b[43m:\u001b[49m\u001b[43m \u001b[49m\u001b[43mvalue\u001b[49m\u001b[43m}\u001b[49m\u001b[43m)\u001b[49m[\u001b[38;5;124m\"\u001b[39m\u001b[38;5;124mvalue\u001b[39m\u001b[38;5;124m\"\u001b[39m]\n",
      "File \u001b[1;32md:\\Programs\\Python\\Lib\\site-packages\\selenium\\webdriver\\remote\\webdriver.py:354\u001b[0m, in \u001b[0;36mWebDriver.execute\u001b[1;34m(self, driver_command, params)\u001b[0m\n\u001b[0;32m    353\u001b[0m \u001b[38;5;28;01mif\u001b[39;00m response:\n\u001b[1;32m--> 354\u001b[0m     \u001b[38;5;28;43mself\u001b[39;49m\u001b[38;5;241;43m.\u001b[39;49m\u001b[43merror_handler\u001b[49m\u001b[38;5;241;43m.\u001b[39;49m\u001b[43mcheck_response\u001b[49m\u001b[43m(\u001b[49m\u001b[43mresponse\u001b[49m\u001b[43m)\u001b[49m\n\u001b[0;32m    355\u001b[0m     response[\u001b[38;5;124m\"\u001b[39m\u001b[38;5;124mvalue\u001b[39m\u001b[38;5;124m\"\u001b[39m] \u001b[38;5;241m=\u001b[39m \u001b[38;5;28mself\u001b[39m\u001b[38;5;241m.\u001b[39m_unwrap_value(response\u001b[38;5;241m.\u001b[39mget(\u001b[38;5;124m\"\u001b[39m\u001b[38;5;124mvalue\u001b[39m\u001b[38;5;124m\"\u001b[39m, \u001b[38;5;28;01mNone\u001b[39;00m))\n",
      "File \u001b[1;32md:\\Programs\\Python\\Lib\\site-packages\\selenium\\webdriver\\remote\\errorhandler.py:229\u001b[0m, in \u001b[0;36mErrorHandler.check_response\u001b[1;34m(self, response)\u001b[0m\n\u001b[0;32m    228\u001b[0m     \u001b[38;5;28;01mraise\u001b[39;00m exception_class(message, screen, stacktrace, alert_text)  \u001b[38;5;66;03m# type: ignore[call-arg]  # mypy is not smart enough here\u001b[39;00m\n\u001b[1;32m--> 229\u001b[0m \u001b[38;5;28;01mraise\u001b[39;00m exception_class(message, screen, stacktrace)\n",
      "\u001b[1;31mNoSuchElementException\u001b[0m: Message: no such element: Unable to locate element: {\"method\":\"css selector\",\"selector\":\"[name=\"q\"]\"}\n  (Session info: MicrosoftEdge=129.0.2792.79); For documentation on this error, please visit: https://www.selenium.dev/documentation/webdriver/troubleshooting/errors#no-such-element-exception\nStacktrace:\n\tGetHandleVerifier [0x00007FF75668CF25+12997]\n\tMicrosoft::Applications::Events::EventProperty::empty [0x00007FF75690BCE4+1897876]\n\t(No symbol) [0x00007FF75643F1CC]\n\t(No symbol) [0x00007FF75648672E]\n\t(No symbol) [0x00007FF7564867B5]\n\t(No symbol) [0x00007FF7564C4ED7]\n\t(No symbol) [0x00007FF7564A7F8F]\n\t(No symbol) [0x00007FF75647C09D]\n\t(No symbol) [0x00007FF7564C2887]\n\t(No symbol) [0x00007FF7564A7BB3]\n\t(No symbol) [0x00007FF75647B5AC]\n\t(No symbol) [0x00007FF75647AA8D]\n\t(No symbol) [0x00007FF75647B171]\n\tMicrosoft::Applications::Events::EventProperty::empty [0x00007FF756839E34+1038052]\n\tMicrosoft::Applications::Events::EventProperty::~EventProperty [0x00007FF7565B095F+56655]\n\tMicrosoft::Applications::Events::EventProperty::~EventProperty [0x00007FF7565A3103+1267]\n\tMicrosoft::Applications::Events::EventProperty::empty [0x00007FF756838BBD+1033325]\n\tMicrosoft::Applications::Events::ILogConfiguration::operator* [0x00007FF756629791+327745]\n\tMicrosoft::Applications::Events::ILogConfiguration::operator* [0x00007FF756625C14+312516]\n\tMicrosoft::Applications::Events::ILogConfiguration::operator* [0x00007FF756625D49+312825]\n\tMicrosoft::Applications::Events::ILogConfiguration::operator* [0x00007FF75661C2BC+273260]\n\tBaseThreadInitThunk [0x00007FFD6327257D+29]\n\tRtlUserThreadStart [0x00007FFD64BEAF28+40]\n",
      "\nDuring handling of the above exception, another exception occurred:\n",
      "\u001b[1;31mException\u001b[0m                                 Traceback (most recent call last)",
      "Cell \u001b[1;32mIn[34], line 15\u001b[0m\n\u001b[0;32m     13\u001b[0m     j \u001b[38;5;241m=\u001b[39m \u001b[38;5;241m0\u001b[39m\n\u001b[0;32m     14\u001b[0m \u001b[38;5;28;01mfor\u001b[39;00m word \u001b[38;5;129;01min\u001b[39;00m word_dict[letter][j:]:\n\u001b[1;32m---> 15\u001b[0m     \u001b[43msearch_word\u001b[49m\u001b[43m(\u001b[49m\u001b[43mdriver\u001b[49m\u001b[43m,\u001b[49m\u001b[43m \u001b[49m\u001b[43mword\u001b[49m\u001b[43m,\u001b[49m\u001b[43m \u001b[49m\u001b[43mdelay\u001b[49m\u001b[38;5;241;43m=\u001b[39;49m\u001b[38;5;241;43m5\u001b[39;49m\u001b[43m)\u001b[49m\n\u001b[0;32m     16\u001b[0m     \u001b[38;5;66;03m# time.sleep(1)\u001b[39;00m\n\u001b[0;32m     17\u001b[0m     \u001b[38;5;66;03m# driver.get(link + word)\u001b[39;00m\n\u001b[0;32m     18\u001b[0m     load_all(driver, button_class,try_again_button_class, delay\u001b[38;5;241m=\u001b[39m\u001b[38;5;241m20\u001b[39m)\n",
      "Cell \u001b[1;32mIn[5], line 30\u001b[0m, in \u001b[0;36msearch_word\u001b[1;34m(driver, word, delay, test)\u001b[0m\n\u001b[0;32m     28\u001b[0m     log_when_stop(\u001b[38;5;124m\"\u001b[39m\u001b[38;5;124mstop_log.txt\u001b[39m\u001b[38;5;124m\"\u001b[39m, word)\n\u001b[0;32m     29\u001b[0m ctypes\u001b[38;5;241m.\u001b[39mwindll\u001b[38;5;241m.\u001b[39muser32\u001b[38;5;241m.\u001b[39mMessageBoxW(\u001b[38;5;241m0\u001b[39m, \u001b[38;5;124m\"\u001b[39m\u001b[38;5;124mYour text\u001b[39m\u001b[38;5;124m\"\u001b[39m, \u001b[38;5;124m\"\u001b[39m\u001b[38;5;124mYour title\u001b[39m\u001b[38;5;124m\"\u001b[39m, \u001b[38;5;241m2\u001b[39m)\n\u001b[1;32m---> 30\u001b[0m \u001b[38;5;28;01mraise\u001b[39;00m \u001b[38;5;167;01mException\u001b[39;00m\n",
      "\u001b[1;31mException\u001b[0m: "
     ]
    }
   ],
   "source": [
    "button_class = \"button[class='button-xs']\"\n",
    "try_again_button_class = \"button[class='m-auto text-button-xs']\"\n",
    "div1 = \"div[class='w-1/2 dir-aware-pr-1 '][lang='id']\"\n",
    "div2 = \"div[class='w-1/2 dir-aware-pl-1 '][lang='vi']\"\n",
    "log_file = \"stop_log.txt\"\n",
    "link = \"https://vi.glosbe.com/id/vi/\"\n",
    "csv_file = \"result2.csv\"\n",
    "\n",
    "i,j = continue_from_last(log_file)\n",
    "print(f'{i} {j}')\n",
    "for letter in alphabet[i:]:\n",
    "    if letter != alphabet[i]:\n",
    "        j = 0\n",
    "    for word in word_dict[letter][j:]:\n",
    "        search_word(driver, word, delay=5)\n",
    "        # time.sleep(1)\n",
    "        # driver.get(link + word)\n",
    "        load_all(driver, button_class,try_again_button_class, delay=20)\n",
    "        id,vi = get_translation(driver, div1, div2)\n",
    "        write_to_csv(id, vi, csv_file)"
   ]
  },
  {
   "cell_type": "code",
   "execution_count": 15,
   "metadata": {},
   "outputs": [
    {
     "name": "stdout",
     "output_type": "stream",
     "text": [
      "Page is ready!\n"
     ]
    }
   ],
   "source": [
    "test = True\n",
    "if test:\n",
    "    search_word(driver,\"cinta\", test=test)\n",
    "    delay = 3 # seconds\n",
    "    try:\n",
    "        myElem = WebDriverWait(driver, delay).until(EC.presence_of_element_located((By.CSS_SELECTOR, \"button[class='button-xs']\")))\n",
    "        print( \"Page is ready!\")\n",
    "    except TimeoutException:\n",
    "        print( \"Loading took too much time!\")"
   ]
  },
  {
   "cell_type": "code",
   "execution_count": null,
   "metadata": {},
   "outputs": [],
   "source": [
    "word_dict['j'].index(\"jangkrik\")"
   ]
  },
  {
   "cell_type": "code",
   "execution_count": null,
   "metadata": {},
   "outputs": [],
   "source": [
    "len(word_dict['k'])"
   ]
  },
  {
   "cell_type": "code",
   "execution_count": null,
   "metadata": {},
   "outputs": [],
   "source": [
    "driver.refresh()"
   ]
  }
 ],
 "metadata": {
  "kernelspec": {
   "display_name": "Python 3",
   "language": "python",
   "name": "python3"
  },
  "language_info": {
   "codemirror_mode": {
    "name": "ipython",
    "version": 3
   },
   "file_extension": ".py",
   "mimetype": "text/x-python",
   "name": "python",
   "nbconvert_exporter": "python",
   "pygments_lexer": "ipython3",
   "version": "3.11.1"
  }
 },
 "nbformat": 4,
 "nbformat_minor": 2
}
