{
 "cells": [
  {
   "cell_type": "code",
   "execution_count": 16,
   "metadata": {},
   "outputs": [],
   "source": [
    "from selenium import webdriver\n",
    "from selenium.webdriver.common.keys import Keys\n",
    "from selenium.webdriver.common.by import By\n",
    "from selenium.common.exceptions import NoSuchElementException, InvalidSelectorException, ElementClickInterceptedException\n",
    "from selenium.webdriver.support import expected_conditions as EC\n",
    "from selenium.webdriver.support.ui import WebDriverWait\n",
    "import time"
   ]
  },
  {
   "cell_type": "code",
   "execution_count": 2,
   "metadata": {},
   "outputs": [],
   "source": [
    "driver = webdriver.Edge()"
   ]
  },
  {
   "cell_type": "code",
   "execution_count": 3,
   "metadata": {},
   "outputs": [],
   "source": [
    "driver.get(\"https://vi.glosbe.com/id/vi\")"
   ]
  },
  {
   "cell_type": "code",
   "execution_count": 4,
   "metadata": {},
   "outputs": [],
   "source": [
    "search_bar = driver.find_element(By.NAME,\"q\")"
   ]
  },
  {
   "cell_type": "code",
   "execution_count": 5,
   "metadata": {},
   "outputs": [],
   "source": [
    "search_bar.clear()\n",
    "search_bar.send_keys(\"cinta\")\n",
    "search_bar.send_keys(Keys.RETURN)"
   ]
  },
  {
   "cell_type": "code",
   "execution_count": 6,
   "metadata": {},
   "outputs": [],
   "source": [
    "id = driver.find_elements(By.CSS_SELECTOR, \"div[class='w-1/2 dir-aware-pr-1 '][lang='id']\")\n",
    "vi = driver.find_elements(By.CSS_SELECTOR, \"div[class='w-1/2 dir-aware-pl-1 '][lang='vi']\")"
   ]
  },
  {
   "cell_type": "code",
   "execution_count": 7,
   "metadata": {},
   "outputs": [
    {
     "name": "stdout",
     "output_type": "stream",
     "text": [
      "Ayahmu tidak mencintai Aku ketika kami menikah. - Cha của con không yêu ta Khi chúng ta lấy nhau\n",
      "Pada tahun 1977, istri tercinta dan pendamping setia saya meninggal. - Năm 1977, vợ yêu dấu và bạn trung thành của tôi qua đời.\n",
      "Kau tau, ini memalukan, karena aku mencintai orang itu layaknya saudara sendiri. - Thật là xấu hổ, tôi xem cậu ấy như là em trai mình.\n",
      "Mereka akan \" selalu \" saling cinta, dan sebagainya. - Họ sẽ \" luôn luôn \" yêu nhau hay đại loại thế.\n",
      "Aku mencintaimu bro, tolong hub saya. - Tôi quý cậu người anh em hãy gọi lại cho tôi\n",
      "Kau pikir kau sendirian yang dicintai Ibu? - Ngươi nghĩ chỉ mình ngươi được mẫu hậu yêu thương à?\n",
      "14 Apakah saya merespek dan mencintai standar moral Alkitab? - 14 Tôi có tôn trọng và yêu thích những tiêu chuẩn đạo đức trong Kinh Thánh không?\n",
      "Kadang-kadang, pecinta asmara menghadapi rintangan seperti keuangan, penyakit fisik, berbagai bentuk diskriminasi, pembatasan psikologis atau keluarga yang mengancam untuk memutuskan hubungan cinta mereka. - Đôi khi, những đôi lứa yêu nhau trong phim sẽ gặp phải những trở ngại như tài chính, bệnh tật, nhiều kiểu phân biệt đối xử, hạn chế tâm lý hoặc sự đe doạ của gia đình đòi phá vỡ tình yêu của họ.\n",
      "kita sudah perbedaan-perbedaan kita, tapi aku selalu mencintaimu. - Anh Sandra có rắc rối, nhưng tôi đã luôn yêu anh.\n",
      "Saya cinta lab. - Tôi thích phòng thí nghiệm.\n",
      "Kita di sini saat pertama kali kau bilang mencintaiku. - Đây là nơi mà lần đầu tiên anh nói yêu em.\n",
      "Dan saya tahu beberapa dari Anda adalah pecinta Apple. - Và tôi cũng biết một số trong số các bạn là những người cuồng nhiệt đồ của Apple.\n",
      "Selain itu, kita sendiri bisa jatuh sakit, menderita, berduka karena orang yang kita cintai meninggal. - Còn về phương diện cá nhân, chúng ta bị bệnh tật, đau đớn, mất người thân.\n",
      "Karena putri duyung mencintai pria itu. - Bởi vì nàng tiên cá ấy, đã từng yêu người đàn ông đó.\n",
      "Mimpi akan cinta yang kau idamkan hanyalah muslihat kehidupan yang sedang mempermainkanmu. - Giấc mơ hoàn hảo mà bà đang bám víu này chỉ là trò đùa mà cuộc sống này dành cho bà thôi.\n",
      "Aku telah mengetahui kau jatuh cinta pada Iris karena kau sudah cukup tua untuk tahu apa itu cinta. - Chú đã thấy cháu yêu Iris kể từ lúc cháu đủ tuổi để hiểu yêu là gì.\n",
      "Lebih mencintai kesenangan daripada mengasihi Allah. —2 Timotius 3:4. - Ham thích sự vui chơi hơn là yêu mến Đức Chúa Trời.—2 Ti-mô-thê 3:4.\n",
      "Karena aku mencintai ibu mereka. - Vì anh yêu mẹ của chúng\n",
      "Kubayangkan wanita yang memilikinya... mencintai seorang pria yang tak bisa dimilikinya. - Tôi nghĩ rằng người phụ nữ trước sở hữu nó, đã yêu người đàn ông mà cô ấy không lấy được.\n",
      "Cepat, cintaku. - Mau lên, tình yêu của em.\n",
      "Kota mereka yang tercinta dihancurkan, tembok-temboknya diruntuhkan. - Thành yêu dấu của họ bị phá hủy tan tành, tường thành bị sụp đổ.\n",
      "Hampir tidak ada yang keluar dari cinta hidup- hidup. - Hầu như không ai sống sót trong tình yêu.\n",
      "Saya cinta awak, Tarzan. - Em yêu anh, Tarzan.\n",
      "Hubungan saya dengan Tuhan -- bukanlah cinta pada pandangan pertama. - Mối liên hệvới Thượng đế... không phải là tình yêu từ cái nhìn đầu tiên.\n",
      "Aku datang kembali untukmu, cintaku. - Anh quay lại... vì em, tình yêu của anh...\n"
     ]
    }
   ],
   "source": [
    "for i, element in enumerate(id):\n",
    "    print(f'{id[i].text} - {vi[i].text}')"
   ]
  },
  {
   "cell_type": "code",
   "execution_count": 34,
   "metadata": {},
   "outputs": [
    {
     "name": "stdout",
     "output_type": "stream",
     "text": [
      "no more\n"
     ]
    }
   ],
   "source": [
    "while True:\n",
    "    try:\n",
    "        load_more = driver.find_element(By.CSS_SELECTOR, \"button[class='button-xs']\")\n",
    "    \n",
    "        webdriver.ActionChains(driver).move_to_element(load_more).click(load_more).perform()\n",
    "            \n",
    "        time.sleep(2)\n",
    "    except NoSuchElementException:\n",
    "        print(\"no more\")\n",
    "        break"
   ]
  },
  {
   "cell_type": "code",
   "execution_count": 33,
   "metadata": {},
   "outputs": [],
   "source": [
    "driver.refresh()"
   ]
  },
  {
   "cell_type": "code",
   "execution_count": 35,
   "metadata": {},
   "outputs": [],
   "source": [
    "driver.close()"
   ]
  }
 ],
 "metadata": {
  "kernelspec": {
   "display_name": "Python 3",
   "language": "python",
   "name": "python3"
  },
  "language_info": {
   "codemirror_mode": {
    "name": "ipython",
    "version": 3
   },
   "file_extension": ".py",
   "mimetype": "text/x-python",
   "name": "python",
   "nbconvert_exporter": "python",
   "pygments_lexer": "ipython3",
   "version": "3.12.4"
  }
 },
 "nbformat": 4,
 "nbformat_minor": 2
}
