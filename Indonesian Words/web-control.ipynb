{
 "cells": [
  {
   "cell_type": "code",
   "execution_count": 1,
   "metadata": {},
   "outputs": [],
   "source": [
    "from selenium import webdriver\n",
    "from selenium.webdriver.common.keys import Keys\n",
    "from selenium.webdriver.common.by import By\n",
    "from selenium.common.exceptions import NoSuchElementException, TimeoutException, WebDriverException\n",
    "from selenium.webdriver.support import expected_conditions as EC\n",
    "from selenium.webdriver.support.ui import WebDriverWait\n",
    "import json"
   ]
  },
  {
   "cell_type": "code",
   "execution_count": 2,
   "metadata": {},
   "outputs": [],
   "source": [
    "word_dict = json.load(open(\"result.json\"))\n",
    "\n",
    "alphabet = 'A,B,C,D,E,F,G,H,I,J,K,L,M,N,O,P,Q,R,S,T,U,V,W,X,Y,Z'\n",
    "alphabet = alphabet.lower().split(',')"
   ]
  },
  {
   "cell_type": "code",
   "execution_count": 3,
   "metadata": {},
   "outputs": [],
   "source": [
    "proxy = \"35.185.196.38:3128\"\n",
    "edge_option = webdriver.EdgeOptions()\n",
    "# edge_option.add_argument(f\"--proxy-server={proxy}\")\n",
    "\n",
    "driver = webdriver.Edge(options=edge_option)\n",
    "try:\n",
    "    driver.get(\"https://vi.glosbe.com/id/vi\")\n",
    "except WebDriverException as e:\n",
    "    print(f'Error : {e.msg}')"
   ]
  },
  {
   "cell_type": "code",
   "execution_count": 7,
   "metadata": {},
   "outputs": [],
   "source": [
    "driver.close()"
   ]
  },
  {
   "cell_type": "code",
   "execution_count": 4,
   "metadata": {},
   "outputs": [],
   "source": [
    "def log_when_stop(file, word):\n",
    "    with open(file, 'w') as f:\n",
    "        word_index = word_dict[word[0].lower()].index(word)\n",
    "        letter_index = alphabet.index(word[0].lower())\n",
    "        f.write(f'{letter_index} {word_index-1}')\n",
    "\n",
    "def search_word(driver:webdriver, word, delay = 3):\n",
    "    MAXTRY = 1\n",
    "    count = 0\n",
    "    while True:\n",
    "        try:\n",
    "            try:\n",
    "                myElem = WebDriverWait(driver, delay).until(EC.presence_of_element_located((By.NAME,\"q\")))\n",
    "            except TimeoutException:\n",
    "                print( \"Searching took too much time!\")\n",
    "            # driver.get(\"https://vi.glosbe.com/id/vi/\" + word)\n",
    "            search_bar = driver.find_element(By.NAME,\"q\")\n",
    "            search_bar.clear()\n",
    "            search_bar.send_keys(word)\n",
    "            search_bar.send_keys(Keys.RETURN)\n",
    "            break\n",
    "        except NoSuchElementException:\n",
    "            driver.refresh()\n",
    "            count += 1\n",
    "            if count >= MAXTRY:\n",
    "                print(\"Encounter a capcha\")\n",
    "                log_when_stop(\"stop_log.txt\", word)\n",
    "                raise Exception\n",
    "    \n",
    "def get_translation(driver, div1, div2):\n",
    "    lang1 = driver.find_elements(By.CSS_SELECTOR, div1)\n",
    "    lang2 = driver.find_elements(By.CSS_SELECTOR, div2)\n",
    "\n",
    "    return lang1,lang2\n",
    "\n",
    "def write_to_csv(lang1, lang2, file):\n",
    "    if len(lang1) < 1 or len(lang2) < 1:\n",
    "        return\n",
    "    with open(file, 'a', encoding='utf-8') as f:    \n",
    "        for i, _ in enumerate(lang1):\n",
    "            f.write(f'{lang1[i].text}ッ{lang2[i].text}\\n')\n",
    "            \n",
    "def load_all(driver,button_css,try_again ,delay=3):\n",
    "    while True:\n",
    "        try:\n",
    "            try:\n",
    "                myElem = WebDriverWait(driver, delay).until(EC.presence_of_element_located((By.CSS_SELECTOR, button_css)))\n",
    "            except TimeoutException:\n",
    "                try:\n",
    "                    print(\"try again\")\n",
    "                    load_more = driver.find_element(By.CSS_SELECTOR, try_again)\n",
    "                    webdriver.ActionChains(driver).move_to_element(load_more).click(load_more).perform()\n",
    "                except NoSuchElementException:\n",
    "                    break\n",
    "            load_more = driver.find_element(By.CSS_SELECTOR, button_css)\n",
    "        \n",
    "            webdriver.ActionChains(driver).move_to_element(load_more).click(load_more).perform()\n",
    "                \n",
    "            # time.sleep(2)\n",
    "        except NoSuchElementException:\n",
    "            print(\"no more\")\n",
    "            break\n",
    "\n",
    "def continue_from_last(file):\n",
    "    text:str\n",
    "    with open(file,'r') as f:\n",
    "        text = f.readline()\n",
    "  \n",
    "    return tuple(map(int,text.split()))\n",
    "\n"
   ]
  },
  {
   "cell_type": "code",
   "execution_count": 6,
   "metadata": {},
   "outputs": [
    {
     "name": "stdout",
     "output_type": "stream",
     "text": [
      "1 2018\n",
      "try again\n",
      "try again\n",
      "try again\n",
      "try again\n",
      "try again\n",
      "try again\n",
      "try again\n",
      "try again\n",
      "try again\n",
      "try again\n",
      "try again\n",
      "try again\n",
      "try again\n",
      "try again\n",
      "try again\n",
      "try again\n",
      "try again\n",
      "try again\n",
      "try again\n",
      "try again\n",
      "try again\n",
      "try again\n",
      "try again\n",
      "try again\n",
      "try again\n",
      "try again\n",
      "try again\n",
      "try again\n",
      "try again\n",
      "try again\n",
      "try again\n",
      "try again\n",
      "try again\n",
      "try again\n",
      "try again\n",
      "try again\n",
      "try again\n",
      "try again\n",
      "try again\n",
      "try again\n",
      "try again\n",
      "try again\n",
      "try again\n",
      "try again\n",
      "try again\n",
      "try again\n",
      "try again\n",
      "try again\n",
      "try again\n",
      "try again\n",
      "try again\n",
      "try again\n",
      "try again\n",
      "try again\n",
      "try again\n",
      "try again\n",
      "try again\n",
      "try again\n",
      "try again\n",
      "try again\n",
      "try again\n",
      "try again\n",
      "try again\n",
      "try again\n",
      "try again\n",
      "try again\n",
      "try again\n",
      "try again\n",
      "try again\n",
      "try again\n",
      "try again\n",
      "try again\n",
      "try again\n",
      "try again\n",
      "try again\n",
      "try again\n",
      "try again\n",
      "try again\n",
      "Searching took too much time!\n",
      "Encounter a capcha\n"
     ]
    },
    {
     "ename": "Exception",
     "evalue": "",
     "output_type": "error",
     "traceback": [
      "\u001b[0;31m---------------------------------------------------------------------------\u001b[0m",
      "\u001b[0;31mNoSuchElementException\u001b[0m                    Traceback (most recent call last)",
      "Cell \u001b[0;32mIn[4], line 17\u001b[0m, in \u001b[0;36msearch_word\u001b[0;34m(driver, word, delay)\u001b[0m\n\u001b[1;32m     16\u001b[0m \u001b[38;5;66;03m# driver.get(\"https://vi.glosbe.com/id/vi/\" + word)\u001b[39;00m\n\u001b[0;32m---> 17\u001b[0m search_bar \u001b[38;5;241m=\u001b[39m \u001b[43mdriver\u001b[49m\u001b[38;5;241;43m.\u001b[39;49m\u001b[43mfind_element\u001b[49m\u001b[43m(\u001b[49m\u001b[43mBy\u001b[49m\u001b[38;5;241;43m.\u001b[39;49m\u001b[43mNAME\u001b[49m\u001b[43m,\u001b[49m\u001b[38;5;124;43m\"\u001b[39;49m\u001b[38;5;124;43mq\u001b[39;49m\u001b[38;5;124;43m\"\u001b[39;49m\u001b[43m)\u001b[49m\n\u001b[1;32m     18\u001b[0m search_bar\u001b[38;5;241m.\u001b[39mclear()\n",
      "File \u001b[0;32m~/.local/lib/python3.12/site-packages/selenium/webdriver/remote/webdriver.py:748\u001b[0m, in \u001b[0;36mWebDriver.find_element\u001b[0;34m(self, by, value)\u001b[0m\n\u001b[1;32m    746\u001b[0m     value \u001b[38;5;241m=\u001b[39m \u001b[38;5;124mf\u001b[39m\u001b[38;5;124m'\u001b[39m\u001b[38;5;124m[name=\u001b[39m\u001b[38;5;124m\"\u001b[39m\u001b[38;5;132;01m{\u001b[39;00mvalue\u001b[38;5;132;01m}\u001b[39;00m\u001b[38;5;124m\"\u001b[39m\u001b[38;5;124m]\u001b[39m\u001b[38;5;124m'\u001b[39m\n\u001b[0;32m--> 748\u001b[0m \u001b[38;5;28;01mreturn\u001b[39;00m \u001b[38;5;28;43mself\u001b[39;49m\u001b[38;5;241;43m.\u001b[39;49m\u001b[43mexecute\u001b[49m\u001b[43m(\u001b[49m\u001b[43mCommand\u001b[49m\u001b[38;5;241;43m.\u001b[39;49m\u001b[43mFIND_ELEMENT\u001b[49m\u001b[43m,\u001b[49m\u001b[43m \u001b[49m\u001b[43m{\u001b[49m\u001b[38;5;124;43m\"\u001b[39;49m\u001b[38;5;124;43musing\u001b[39;49m\u001b[38;5;124;43m\"\u001b[39;49m\u001b[43m:\u001b[49m\u001b[43m \u001b[49m\u001b[43mby\u001b[49m\u001b[43m,\u001b[49m\u001b[43m \u001b[49m\u001b[38;5;124;43m\"\u001b[39;49m\u001b[38;5;124;43mvalue\u001b[39;49m\u001b[38;5;124;43m\"\u001b[39;49m\u001b[43m:\u001b[49m\u001b[43m \u001b[49m\u001b[43mvalue\u001b[49m\u001b[43m}\u001b[49m\u001b[43m)\u001b[49m[\u001b[38;5;124m\"\u001b[39m\u001b[38;5;124mvalue\u001b[39m\u001b[38;5;124m\"\u001b[39m]\n",
      "File \u001b[0;32m~/.local/lib/python3.12/site-packages/selenium/webdriver/remote/webdriver.py:354\u001b[0m, in \u001b[0;36mWebDriver.execute\u001b[0;34m(self, driver_command, params)\u001b[0m\n\u001b[1;32m    353\u001b[0m \u001b[38;5;28;01mif\u001b[39;00m response:\n\u001b[0;32m--> 354\u001b[0m     \u001b[38;5;28;43mself\u001b[39;49m\u001b[38;5;241;43m.\u001b[39;49m\u001b[43merror_handler\u001b[49m\u001b[38;5;241;43m.\u001b[39;49m\u001b[43mcheck_response\u001b[49m\u001b[43m(\u001b[49m\u001b[43mresponse\u001b[49m\u001b[43m)\u001b[49m\n\u001b[1;32m    355\u001b[0m     response[\u001b[38;5;124m\"\u001b[39m\u001b[38;5;124mvalue\u001b[39m\u001b[38;5;124m\"\u001b[39m] \u001b[38;5;241m=\u001b[39m \u001b[38;5;28mself\u001b[39m\u001b[38;5;241m.\u001b[39m_unwrap_value(response\u001b[38;5;241m.\u001b[39mget(\u001b[38;5;124m\"\u001b[39m\u001b[38;5;124mvalue\u001b[39m\u001b[38;5;124m\"\u001b[39m, \u001b[38;5;28;01mNone\u001b[39;00m))\n",
      "File \u001b[0;32m~/.local/lib/python3.12/site-packages/selenium/webdriver/remote/errorhandler.py:229\u001b[0m, in \u001b[0;36mErrorHandler.check_response\u001b[0;34m(self, response)\u001b[0m\n\u001b[1;32m    228\u001b[0m     \u001b[38;5;28;01mraise\u001b[39;00m exception_class(message, screen, stacktrace, alert_text)  \u001b[38;5;66;03m# type: ignore[call-arg]  # mypy is not smart enough here\u001b[39;00m\n\u001b[0;32m--> 229\u001b[0m \u001b[38;5;28;01mraise\u001b[39;00m exception_class(message, screen, stacktrace)\n",
      "\u001b[0;31mNoSuchElementException\u001b[0m: Message: no such element: Unable to locate element: {\"method\":\"css selector\",\"selector\":\"[name=\"q\"]\"}\n  (Session info: MicrosoftEdge=128.0.2739.42); For documentation on this error, please visit: https://www.selenium.dev/documentation/webdriver/troubleshooting/errors#no-such-element-exception\nStacktrace:\n#0 0x557fca1dd34e <unknown>\n#1 0x557fc9e80d86 <unknown>\n#2 0x557fc9ed0783 <unknown>\n#3 0x557fc9ed08a1 <unknown>\n#4 0x557fc9f165e4 <unknown>\n#5 0x557fc9ef56ed <unknown>\n#6 0x557fc9f1408e <unknown>\n#7 0x557fc9ef5463 <unknown>\n#8 0x557fc9ec389d <unknown>\n#9 0x557fc9ec458e <unknown>\n#10 0x557fca1ac3f1 <unknown>\n#11 0x557fca1af65d <unknown>\n#12 0x557fca1af0db <unknown>\n#13 0x557fca1afac5 <unknown>\n#14 0x557fca19da52 <unknown>\n#15 0x557fca1afe4d <unknown>\n#16 0x557fca188845 <unknown>\n#17 0x557fca1cd888 <unknown>\n#18 0x557fca1cda9d <unknown>\n#19 0x557fca1dc131 <unknown>\n#20 0x7f2a03657897 start_thread\n#21 0x7f2a036dea5c __clone3\n",
      "\nDuring handling of the above exception, another exception occurred:\n",
      "\u001b[0;31mException\u001b[0m                                 Traceback (most recent call last)",
      "Cell \u001b[0;32mIn[6], line 15\u001b[0m\n\u001b[1;32m     13\u001b[0m     j \u001b[38;5;241m=\u001b[39m \u001b[38;5;241m0\u001b[39m\n\u001b[1;32m     14\u001b[0m \u001b[38;5;28;01mfor\u001b[39;00m word \u001b[38;5;129;01min\u001b[39;00m word_dict[letter][j:]:\n\u001b[0;32m---> 15\u001b[0m     \u001b[43msearch_word\u001b[49m\u001b[43m(\u001b[49m\u001b[43mdriver\u001b[49m\u001b[43m,\u001b[49m\u001b[43m \u001b[49m\u001b[43mword\u001b[49m\u001b[43m,\u001b[49m\u001b[43m \u001b[49m\u001b[43mdelay\u001b[49m\u001b[38;5;241;43m=\u001b[39;49m\u001b[38;5;241;43m5\u001b[39;49m\u001b[43m)\u001b[49m\n\u001b[1;32m     16\u001b[0m     \u001b[38;5;66;03m# driver.get(link + word)\u001b[39;00m\n\u001b[1;32m     17\u001b[0m     load_all(driver, button_class,try_again_button_class, delay\u001b[38;5;241m=\u001b[39m\u001b[38;5;241m3\u001b[39m)\n",
      "Cell \u001b[0;32mIn[4], line 28\u001b[0m, in \u001b[0;36msearch_word\u001b[0;34m(driver, word, delay)\u001b[0m\n\u001b[1;32m     26\u001b[0m \u001b[38;5;28mprint\u001b[39m(\u001b[38;5;124m\"\u001b[39m\u001b[38;5;124mEncounter a capcha\u001b[39m\u001b[38;5;124m\"\u001b[39m)\n\u001b[1;32m     27\u001b[0m log_when_stop(\u001b[38;5;124m\"\u001b[39m\u001b[38;5;124mstop_log.txt\u001b[39m\u001b[38;5;124m\"\u001b[39m, word)\n\u001b[0;32m---> 28\u001b[0m \u001b[38;5;28;01mraise\u001b[39;00m \u001b[38;5;167;01mException\u001b[39;00m\n",
      "\u001b[0;31mException\u001b[0m: "
     ]
    }
   ],
   "source": [
    "button_class = \"button[class='button-xs']\"\n",
    "try_again_button_class = \"button[class='m-auto text-button-xs']\"\n",
    "div1 = \"div[class='w-1/2 dir-aware-pr-1 '][lang='id']\"\n",
    "div2 = \"div[class='w-1/2 dir-aware-pl-1 '][lang='vi']\"\n",
    "log_file = \"stop_log.txt\"\n",
    "link = \"https://vi.glosbe.com/id/vi/\"\n",
    "csv_file = \"result1.csv\"\n",
    "\n",
    "i,j = continue_from_last(log_file)\n",
    "print(f'{i} {j}')\n",
    "for letter in alphabet[i:]:\n",
    "    if letter != alphabet[i]:\n",
    "        j = 0\n",
    "    for word in word_dict[letter][j:]:\n",
    "        search_word(driver, word, delay=5)\n",
    "        # driver.get(link + word)\n",
    "        load_all(driver, button_class,try_again_button_class, delay=3)\n",
    "        id,vi = get_translation(driver, div1, div2)\n",
    "        write_to_csv(id, vi, csv_file)"
   ]
  },
  {
   "cell_type": "code",
   "execution_count": null,
   "metadata": {},
   "outputs": [],
   "source": [
    "test = False\n",
    "if test:\n",
    "    search_word(driver,\"cinta\")\n",
    "    delay = 3 # seconds\n",
    "    try:\n",
    "        myElem = WebDriverWait(driver, delay).until(EC.presence_of_element_located((By.CSS_SELECTOR, \"button[class='button-xs']\")))\n",
    "        print( \"Page is ready!\")\n",
    "    except TimeoutException:\n",
    "        print( \"Loading took too much time!\")"
   ]
  },
  {
   "cell_type": "code",
   "execution_count": 7,
   "metadata": {},
   "outputs": [
    {
     "data": {
      "text/plain": [
       "1800"
      ]
     },
     "execution_count": 7,
     "metadata": {},
     "output_type": "execute_result"
    }
   ],
   "source": [
    "word_dict['b'].index(\"brosur\")"
   ]
  },
  {
   "cell_type": "code",
   "execution_count": null,
   "metadata": {},
   "outputs": [],
   "source": [
    "driver.refresh()"
   ]
  }
 ],
 "metadata": {
  "kernelspec": {
   "display_name": "Python 3",
   "language": "python",
   "name": "python3"
  },
  "language_info": {
   "codemirror_mode": {
    "name": "ipython",
    "version": 3
   },
   "file_extension": ".py",
   "mimetype": "text/x-python",
   "name": "python",
   "nbconvert_exporter": "python",
   "pygments_lexer": "ipython3",
   "version": "3.12.4"
  }
 },
 "nbformat": 4,
 "nbformat_minor": 2
}
