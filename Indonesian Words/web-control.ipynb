{
 "cells": [
  {
   "cell_type": "markdown",
   "metadata": {},
   "source": [
    "# IMPORT"
   ]
  },
  {
   "cell_type": "code",
   "execution_count": 4,
   "metadata": {},
   "outputs": [],
   "source": [
    "from selenium import webdriver\n",
    "from selenium.webdriver.common.keys import Keys\n",
    "from selenium.webdriver.common.by import By\n",
    "from selenium.common.exceptions import NoSuchElementException, TimeoutException, WebDriverException\n",
    "from selenium.webdriver.support import expected_conditions as EC\n",
    "from selenium.webdriver.support.ui import WebDriverWait\n",
    "from selenium.webdriver.common.proxy import Proxy, ProxyType\n",
    "import json\n",
    "import random\n",
    "import ctypes  # An included library with Python install.   "
   ]
  },
  {
   "cell_type": "code",
   "execution_count": 5,
   "metadata": {},
   "outputs": [],
   "source": [
    "word_dict = json.load(open(\"result.json\"))\n",
    "\n",
    "alphabet = 'A,B,C,D,E,F,G,H,I,J,K,L,M,N,O,P,Q,R,S,T,U,V,W,X,Y,Z'\n",
    "alphabet = alphabet.lower().split(',')"
   ]
  },
  {
   "cell_type": "code",
   "execution_count": 6,
   "metadata": {},
   "outputs": [],
   "source": [
    "user_agents = [\n",
    "    # Add your list of user agents here\n",
    "\t'Mozilla/5.0 (Windows NT 10.0; Win64; x64) AppleWebKit/537.36 (KHTML, like Gecko) Chrome/109.0.0.0 Safari/537.36',\n",
    "    'Mozilla/5.0 (Macintosh; Intel Mac OS X 10_15_7) AppleWebKit/537.36 (KHTML, like Gecko) Chrome/109.0.0.0 Safari/537.36',\n",
    "    'Mozilla/5.0 (Windows NT 10.0; Win64; x64) AppleWebKit/537.36 (KHTML, like Gecko) Chrome/108.0.0.0 Safari/537.36',\n",
    "    'Mozilla/5.0 (Macintosh; Intel Mac OS X 10_15_7) AppleWebKit/537.36 (KHTML, like Gecko) Chrome/108.0.0.0 Safari/537.36',\n",
    "    'Mozilla/5.0 (X11; Linux x86_64) AppleWebKit/537.36 (KHTML, like Gecko) Chrome/108.0.0.0 Safari/537.36',\n",
    "    'Mozilla/5.0 (Macintosh; Intel Mac OS X 10_15_7) AppleWebKit/605.1.15 (KHTML, like Gecko) Version/16.1 Safari/605.1.15',\n",
    "    'Mozilla/5.0 (Macintosh; Intel Mac OS X 13_1) AppleWebKit/605.1.15 (KHTML, like Gecko) Version/16.1 Safari/605.1.15',\n",
    "]\n"
   ]
  },
  {
   "cell_type": "markdown",
   "metadata": {},
   "source": [
    "# CHROME"
   ]
  },
  {
   "cell_type": "code",
   "execution_count": 5,
   "metadata": {},
   "outputs": [],
   "source": [
    "PROXY = \"132.243.206.253:3128\"\n",
    "LINK = \"https://www.expressvpn.com/what-is-my-ip\"\n",
    "\n",
    "CHROME_PATH = \"C:\\Program Files\\Google\\Chrome\\Application\\chrome.exe\"\n",
    "chrome_option = webdriver.ChromeOptions()\n",
    "# chrome_option.add_argument(f\"--proxy-server={PROXY}\")\n",
    "chrome_option.add_argument(\"user_agent=\"+random.choice(user_agents))\n",
    "\n",
    "webdriver.DesiredCapabilities.CHROME['proxy'] = {\n",
    "    \"httpProxy\": PROXY,\n",
    "    \"ftpProxy\": PROXY,\n",
    "    \"sslProxy\": PROXY,\n",
    "    \"noProxy\":None,\n",
    "    \"proxyType\": \"MANUAL\",\n",
    "    \"socksProxy\": PROXY,\n",
    "    \"socksVersion\":4,\n",
    "    \"class\":\"org.openqa.selenium.Proxy\",\n",
    "    \"autodetect\":False\n",
    "}\n",
    "\n",
    "# webdriver.DesiredCapabilities.CHROME['acceptSslCerts']=True\n",
    "\n",
    "chrome_driver = webdriver.Chrome(options=chrome_option)\n",
    "\n",
    "try:\n",
    "    chrome_driver.get(LINK)\n",
    "except WebDriverException as e:\n",
    "    print(f'Error : {e.msg}')"
   ]
  },
  {
   "cell_type": "code",
   "execution_count": 18,
   "metadata": {},
   "outputs": [],
   "source": [
    "chrome_driver.close()"
   ]
  },
  {
   "cell_type": "markdown",
   "metadata": {},
   "source": [
    "# EDGE"
   ]
  },
  {
   "cell_type": "code",
   "execution_count": 37,
   "metadata": {},
   "outputs": [
    {
     "name": "stdout",
     "output_type": "stream",
     "text": [
      "Error : unknown error: net::ERR_TUNNEL_CONNECTION_FAILED\n",
      "  (Session info: MicrosoftEdge=129.0.2792.52)\n"
     ]
    }
   ],
   "source": [
    "PROXY = \"85.215.64.49:80\"\n",
    "PROXY_PASS = \"vvcknvzt:hnqek9w3h7i5\"\n",
    "LINK = \"https://vi.glosbe.com/id/vi\"\n",
    "edge_option = webdriver.EdgeOptions()\n",
    "edge_option.add_argument(f\"--proxy-server={PROXY}\")\n",
    "# edge_option.add_argument(\"--headless\")\n",
    "edge_option.add_argument('--disable-blink-features=AutomationControlled')\n",
    "edge_option.add_argument('--disable-popup-blocking')\n",
    "edge_option.add_argument('--disable-extensions')\n",
    "edge_option.add_argument('--no-sandbox')\n",
    "edge_option.add_argument('--disable-dev-shm-usage')\n",
    "\n",
    "user_agent = random.choice(user_agents)\n",
    "edge_option.add_argument(f'user-agent={user_agent}')\n",
    "\n",
    "# driver = webdriver.Edge(seleniumwire_options=options, options=edge_option)\n",
    "driver = webdriver.Edge(options = edge_option)\n",
    "driver.execute_script(\"Object.defineProperty(navigator, 'webdriver', {get: () => undefined})\")\n",
    "try:\n",
    "    driver.get(LINK)\n",
    "except WebDriverException as e:\n",
    "    print(f'Error : {e.msg}')"
   ]
  },
  {
   "cell_type": "code",
   "execution_count": 38,
   "metadata": {},
   "outputs": [],
   "source": [
    "driver.close()"
   ]
  },
  {
   "cell_type": "markdown",
   "metadata": {},
   "source": [
    "# SCRAPE"
   ]
  },
  {
   "cell_type": "code",
   "execution_count": null,
   "metadata": {},
   "outputs": [],
   "source": [
    "def log_when_stop(file, word):\n",
    "    with open(file, 'w') as f:\n",
    "        word_index = word_dict[word[0].lower()].index(word)\n",
    "        letter_index = alphabet.index(word[0].lower())\n",
    "        f.write(f'{letter_index} {word_index-1}')\n",
    "\n",
    "def search_word(driver:webdriver, word, delay = 3, test=False):\n",
    "    MAXTRY = 1\n",
    "    count = 0\n",
    "    while True:\n",
    "        try:\n",
    "            try:\n",
    "                myElem = WebDriverWait(driver, delay).until(EC.presence_of_element_located((By.NAME,\"q\")))\n",
    "            except TimeoutException:\n",
    "                print( \"Searching took too much time!\")\n",
    "            # driver.get(\"https://vi.glosbe.com/id/vi/\" + word)\n",
    "            search_bar = driver.find_element(By.NAME,\"q\")\n",
    "            search_bar.clear()\n",
    "            search_bar.send_keys(word)\n",
    "            search_bar.send_keys(Keys.RETURN)\n",
    "            break\n",
    "        except NoSuchElementException:\n",
    "            driver.refresh()\n",
    "            count += 1\n",
    "            if count >= MAXTRY:\n",
    "                print(\"Encounter a capcha\")\n",
    "                if not test:\n",
    "                    log_when_stop(\"stop_log.txt\", word)\n",
    "                ctypes.windll.user32.MessageBoxW(0, \"Your text\", \"Your title\", 2)\n",
    "                raise Exception\n",
    "    \n",
    "def get_translation(driver, div1, div2):\n",
    "    lang1 = driver.find_elements(By.CSS_SELECTOR, div1)\n",
    "    lang2 = driver.find_elements(By.CSS_SELECTOR, div2)\n",
    "\n",
    "    return lang1,lang2\n",
    "\n",
    "def write_to_csv(lang1, lang2, file):\n",
    "    if len(lang1) < 1 or len(lang2) < 1:\n",
    "        return\n",
    "    with open(file, 'a', encoding='utf-8') as f:    \n",
    "        for i, _ in enumerate(lang1):\n",
    "            f.write(f'{lang1[i].text}ッ{lang2[i].text}\\n')\n",
    "            \n",
    "def load_all(driver,button_css,try_again ,delay=3):\n",
    "    while True:\n",
    "        try:\n",
    "            try:\n",
    "                WebDriverWait(driver, delay).until(EC.presence_of_element_located((By.CSS_SELECTOR, button_css)))\n",
    "            except TimeoutException:\n",
    "                try:\n",
    "                    print(\"try again\")\n",
    "                    load_more = driver.find_element(By.CSS_SELECTOR, try_again)\n",
    "                    webdriver.ActionChains(driver).move_to_element(load_more).click(load_more).perform()\n",
    "                except NoSuchElementException:\n",
    "                    break\n",
    "            load_more = driver.find_element(By.CSS_SELECTOR, button_css)\n",
    "        \n",
    "            webdriver.ActionChains(driver).move_to_element(load_more).click(load_more).perform()\n",
    "                \n",
    "            # time.sleep(2)\n",
    "        except NoSuchElementException:\n",
    "            print(\"no more\")\n",
    "            break\n",
    "\n",
    "def continue_from_last(file):\n",
    "    text:str\n",
    "    with open(file,'r') as f:\n",
    "        text = f.readline()\n",
    "  \n",
    "    return tuple(map(int,text.split()))\n",
    "\n"
   ]
  },
  {
   "cell_type": "code",
   "execution_count": null,
   "metadata": {},
   "outputs": [],
   "source": [
    "button_class = \"button[class='button-xs']\"\n",
    "try_again_button_class = \"button[class='m-auto text-button-xs']\"\n",
    "div1 = \"div[class='w-1/2 dir-aware-pr-1 '][lang='id']\"\n",
    "div2 = \"div[class='w-1/2 dir-aware-pl-1 '][lang='vi']\"\n",
    "log_file = \"stop_log.txt\"\n",
    "link = \"https://vi.glosbe.com/id/vi/\"\n",
    "csv_file = \"result2.csv\"\n",
    "\n",
    "i,j = continue_from_last(log_file)\n",
    "print(f'{i} {j}')\n",
    "for letter in alphabet[i:]:\n",
    "    if letter != alphabet[i]:\n",
    "        j = 0\n",
    "    for word in word_dict[letter][j:]:\n",
    "        search_word(driver, word, delay=5)\n",
    "        # time.sleep(1)\n",
    "        # driver.get(link + word)\n",
    "        load_all(driver, button_class,try_again_button_class, delay=3)\n",
    "        id,vi = get_translation(driver, div1, div2)\n",
    "        write_to_csv(id, vi, csv_file)"
   ]
  },
  {
   "cell_type": "code",
   "execution_count": null,
   "metadata": {},
   "outputs": [],
   "source": [
    "test = True\n",
    "if test:\n",
    "    search_word(driver,\"cinta\", test=test)\n",
    "    delay = 3 # seconds\n",
    "    try:\n",
    "        myElem = WebDriverWait(driver, delay).until(EC.presence_of_element_located((By.CSS_SELECTOR, \"button[class='button-xs']\")))\n",
    "        print( \"Page is ready!\")\n",
    "    except TimeoutException:\n",
    "        print( \"Loading took too much time!\")"
   ]
  },
  {
   "cell_type": "code",
   "execution_count": null,
   "metadata": {},
   "outputs": [],
   "source": [
    "word_dict['j'].index(\"jangkrik\")"
   ]
  },
  {
   "cell_type": "code",
   "execution_count": null,
   "metadata": {},
   "outputs": [],
   "source": [
    "len(word_dict['k'])"
   ]
  },
  {
   "cell_type": "code",
   "execution_count": null,
   "metadata": {},
   "outputs": [],
   "source": [
    "driver.refresh()"
   ]
  }
 ],
 "metadata": {
  "kernelspec": {
   "display_name": "Python 3",
   "language": "python",
   "name": "python3"
  },
  "language_info": {
   "codemirror_mode": {
    "name": "ipython",
    "version": 3
   },
   "file_extension": ".py",
   "mimetype": "text/x-python",
   "name": "python",
   "nbconvert_exporter": "python",
   "pygments_lexer": "ipython3",
   "version": "3.11.1"
  }
 },
 "nbformat": 4,
 "nbformat_minor": 2
}
